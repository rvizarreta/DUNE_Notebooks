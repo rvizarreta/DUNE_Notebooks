{
 "cells": [
  {
   "cell_type": "markdown",
   "metadata": {},
   "source": [
    "### SUPERCONDUCTIVITY EXAMPLE WITH ROOT"
   ]
  },
  {
   "cell_type": "markdown",
   "metadata": {},
   "source": [
    "In a superconductivity experiment, a four-wire technique was used to simultaneously measure the voltage across a superconducting sample of unknown material. Using the experimental data from this experiment, you will calculate the resistance and determine the critical temperature $T_c$ for the superconducting sample, and determine its identity.\n",
    "\n",
    "Superconductors are characterized by a critical temperature, Tc, below which they have zero resistance. In the broadest terms, there are two classes of superconductors. There are those with low values for TC, typically 10 K or less, and those with much higher TC. Some of the high-TC materials at atmospheric pressures can get up to 150 K while still being superconductors. \n",
    "\n",
    "The high-TC material you will examine in this experiment is one of two different cuprates. The first is YBa2Cu3O7. In this material the stoichiometric ratio of Y, Ba, and Cu is 1,2,3 and hence it is sometimes called a “123” superconductor. The number of Oxygen atoms present is key to the superconducting properties of the sample. It is also known as “YBCO”. The structure is related to that of perovskites.\n",
    "\n",
    "The other sample is Bi-Sr-Ca-Cu-oxide. Several different compounds are present in the sample, but the one giving rise to the properties we will observe is BiSr2Ca2Cu3O10. It will show superconducting properties at even higher temperatures than the YBCO sample. The abbreviation BSCCO frequently gets pronounced as “Bis - co”.\n",
    "\n",
    "Experimentally, Tc is most often taken to be at the transition point of the resistance vs. temperature plot - the onset of the transition (if you are warming up from LN2 temperature) back to normal resistance behavior. This temperature must be determined as accurately as possible. You must understand the limitations of the system and determine a reasonable uncertainty in your temperature results. When you compare your numbers to those available elsewhere (cite your sources), you must realize that our samples may be somewhat different and not look exactly like those published elsewhere. Lastly, even in the best samples and experiments there appears to be a natural width of a few degrees Kelvin which corresponds to the onset of superconductivity. This itself is not entirely understood and a bit at odds with the (easier to explain) low-temperature superconductors, which typically exhibit a “sharper” transition.\n",
    "\n",
    "Your tasks are:\n",
    "\n",
    "1) Plot Resistance vs Temperature with error bars.\n",
    "2) Consider an analysis methods for identifying the important features of your plot. You may choose to take one or more numerical derivatives to locate the temperature of interest. You may also choose to fit an appropriate analytical function to your data, to allow extraction of appropriate fit parameters. I suggest fitting a sigmoid:\n",
    "\n",
    "$$S(x) = \\frac{L}{1+e^{-k(x-x_0)}}$$\n",
    "\n",
    "Where L: Height, k: steepness, x0: center\n",
    "\n",
    "3) Determine the onset temperature of the transition where the resistance begins to in- crease from zero, with uncertainty. Feel free to estimate your uncertainties as constant values measured by the Keithley 2000 multiplier or just use least count.\n",
    "4) Compare your temperature to literature values for your superconducting sample. The onset temperature value should agree within reasonable uncertainties, but there may be differences. One plausible explanation for this relates to the size of the ceramic superconducting disk and that the temperature across it may not be uniform. Try to articulate why this might produce an effect in your measurements. Ultimately, you should be able to tell if our sample is YBCO or BSCCO.\n",
    "\n",
    "The purpose of this exercise is to give you a first order of understanding how to work with experimental data. The source file you have needs to be cleaned first, as only the rows with three columns are the ones that contain valuable data (the other ones are noise). Moreover, I want you to have a first and simple use case of ROOT plotting tools, so you should not use matplotlib or any other python libraries, do all your plots with ROOT. Also, you cannot use any fitting method other than the ones that come with ROOT, but you can use Numpy and Pandas if you want for simple data management and operations, but not for fittings. "
   ]
  },
  {
   "cell_type": "code",
   "execution_count": null,
   "metadata": {},
   "outputs": [],
   "source": []
  }
 ],
 "metadata": {
  "kernelspec": {
   "display_name": "pyroot",
   "language": "python",
   "name": "python3"
  },
  "language_info": {
   "codemirror_mode": {
    "name": "ipython",
    "version": 3
   },
   "file_extension": ".py",
   "mimetype": "text/x-python",
   "name": "python",
   "nbconvert_exporter": "python",
   "pygments_lexer": "ipython3",
   "version": "3.11.6"
  },
  "orig_nbformat": 4
 },
 "nbformat": 4,
 "nbformat_minor": 2
}
