{
 "cells": [
  {
   "cell_type": "code",
   "execution_count": 42,
   "metadata": {},
   "outputs": [],
   "source": [
    "import ROOT\n",
    "import numpy as np\n",
    "import pandas as pd\n",
    "from array import array"
   ]
  },
  {
   "cell_type": "code",
   "execution_count": 56,
   "metadata": {},
   "outputs": [],
   "source": [
    "# DEFINING A FUNCTION THAT CLEANS THE DATA \n",
    "def CLEAN_INPUT(file):\n",
    "    # cleaning superconductor data\n",
    "    data = []\n",
    "    clean_data = []\n",
    "\n",
    "    # extract raw data\n",
    "    f = open(file, 'r')\n",
    "    for line in f:\n",
    "        data.append(line)\n",
    "    f.close()\n",
    "\n",
    "    for i in range(0, len(data)):\n",
    "        # broken apart by spaces\n",
    "        temp = data[i].split(' ')\n",
    "        if len(temp) == 3:\n",
    "            clean_data.append(temp)\n",
    "            # gets rid of newline in str\n",
    "            clean_data[-1][-1] = clean_data[-1][-1].replace('\\n','')\n",
    "\n",
    "    # convert str to flt\n",
    "    clean_data = np.array(clean_data, dtype = float)\n",
    "    return clean_data\n",
    "\n",
    "# DEFINING A FUNCTION THAT RETURNS THE UNCERTAINTY USING VARIATIONAL METHOD \n",
    "def uncertainty_var(values, deltas, function):\n",
    "    values, deltas = np.array(values), np.array(deltas)\n",
    "    delta_matrix = deltas*np.identity(values.shape[0])\n",
    "    sum = 0\n",
    "    for delta in delta_matrix:\n",
    "        sum += (0.5*(abs(function(values + delta) - function(values)) + abs(function(values-delta) - function(values))))**2\n",
    "    return np.sqrt(sum)\n",
    "\n",
    "# DEFINING A FUNCTION THAT CALCULATES THE RESISTANCE HAVING VOLTAGE AND CURRENT AS INPUTS \n",
    "calculate_R = lambda param : abs(param[0]/param[1]) # param = [V, I]\n"
   ]
  },
  {
   "cell_type": "code",
   "execution_count": 71,
   "metadata": {},
   "outputs": [
    {
     "data": {
      "text/html": [
       "<div>\n",
       "<style scoped>\n",
       "    .dataframe tbody tr th:only-of-type {\n",
       "        vertical-align: middle;\n",
       "    }\n",
       "\n",
       "    .dataframe tbody tr th {\n",
       "        vertical-align: top;\n",
       "    }\n",
       "\n",
       "    .dataframe thead th {\n",
       "        text-align: right;\n",
       "    }\n",
       "</style>\n",
       "<table border=\"1\" class=\"dataframe\">\n",
       "  <thead>\n",
       "    <tr style=\"text-align: right;\">\n",
       "      <th></th>\n",
       "      <th>I (mA)</th>\n",
       "      <th>Voltage (mV)</th>\n",
       "      <th>Temperature (K)</th>\n",
       "      <th>Resistance ($\\Omega$)</th>\n",
       "      <th>$\\Delta$ V (mV)</th>\n",
       "      <th>$\\Delta$ I (mA)</th>\n",
       "      <th>$\\Delta$ T (K)</th>\n",
       "      <th>$\\Delta$ R ($\\Omega$)</th>\n",
       "    </tr>\n",
       "  </thead>\n",
       "  <tbody>\n",
       "    <tr>\n",
       "      <th>134</th>\n",
       "      <td>100.066080</td>\n",
       "      <td>1.632996</td>\n",
       "      <td>149.947957</td>\n",
       "      <td>0.016319</td>\n",
       "      <td>0.01</td>\n",
       "      <td>0.01</td>\n",
       "      <td>0.01</td>\n",
       "      <td>0.0001</td>\n",
       "    </tr>\n",
       "    <tr>\n",
       "      <th>135</th>\n",
       "      <td>100.062763</td>\n",
       "      <td>1.624918</td>\n",
       "      <td>148.827749</td>\n",
       "      <td>0.016239</td>\n",
       "      <td>0.01</td>\n",
       "      <td>0.01</td>\n",
       "      <td>0.01</td>\n",
       "      <td>0.0001</td>\n",
       "    </tr>\n",
       "    <tr>\n",
       "      <th>136</th>\n",
       "      <td>100.069784</td>\n",
       "      <td>1.613420</td>\n",
       "      <td>147.731630</td>\n",
       "      <td>0.016123</td>\n",
       "      <td>0.01</td>\n",
       "      <td>0.01</td>\n",
       "      <td>0.01</td>\n",
       "      <td>0.0001</td>\n",
       "    </tr>\n",
       "    <tr>\n",
       "      <th>137</th>\n",
       "      <td>100.067449</td>\n",
       "      <td>1.601756</td>\n",
       "      <td>146.663944</td>\n",
       "      <td>0.016007</td>\n",
       "      <td>0.01</td>\n",
       "      <td>0.01</td>\n",
       "      <td>0.01</td>\n",
       "      <td>0.0001</td>\n",
       "    </tr>\n",
       "    <tr>\n",
       "      <th>138</th>\n",
       "      <td>100.064927</td>\n",
       "      <td>1.590510</td>\n",
       "      <td>145.598323</td>\n",
       "      <td>0.015895</td>\n",
       "      <td>0.01</td>\n",
       "      <td>0.01</td>\n",
       "      <td>0.01</td>\n",
       "      <td>0.0001</td>\n",
       "    </tr>\n",
       "  </tbody>\n",
       "</table>\n",
       "</div>"
      ],
      "text/plain": [
       "         I (mA)  Voltage (mV)  Temperature (K)  Resistance ($\\Omega$)  \\\n",
       "134  100.066080      1.632996       149.947957               0.016319   \n",
       "135  100.062763      1.624918       148.827749               0.016239   \n",
       "136  100.069784      1.613420       147.731630               0.016123   \n",
       "137  100.067449      1.601756       146.663944               0.016007   \n",
       "138  100.064927      1.590510       145.598323               0.015895   \n",
       "\n",
       "     $\\Delta$ V (mV)  $\\Delta$ I (mA)  $\\Delta$ T (K)  $\\Delta$ R ($\\Omega$)  \n",
       "134             0.01             0.01            0.01                 0.0001  \n",
       "135             0.01             0.01            0.01                 0.0001  \n",
       "136             0.01             0.01            0.01                 0.0001  \n",
       "137             0.01             0.01            0.01                 0.0001  \n",
       "138             0.01             0.01            0.01                 0.0001  "
      ]
     },
     "execution_count": 71,
     "metadata": {},
     "output_type": "execute_result"
    }
   ],
   "source": [
    "data = CLEAN_INPUT('cooling1.txt') # I (mA), Voltage (mV), Temperature (K)\n",
    "\n",
    "df = pd.DataFrame(data, columns=['I (mA)', 'Voltage (mV)', 'Temperature (K)'])\n",
    "df['I (mA)'] = df['I (mA)']*1e2\n",
    "df['Voltage (mV)'] = df['Voltage (mV)']*1e3\n",
    "df['Resistance ($\\Omega$)'] = df['Voltage (mV)']/df['I (mA)']\n",
    "df = df[(df['Resistance ($\\Omega$)']<1.25e-2) | (df['Resistance ($\\Omega$)']>1.49e-2)] # Adjusting vertical range to fit data\n",
    "\n",
    "# ADDING UNCERTAINTIES ---------------------------------------\n",
    "df['$\\Delta$ V (mV)'], df['$\\Delta$ I (mA)'], df['$\\Delta$ T (K)'] = 0.01, 0.01, 0.01\n",
    "df['$\\Delta$ R ($\\Omega$)'] = df.apply(lambda x: uncertainty_var([x['Voltage (mV)'], x['I (mA)']], [x['$\\Delta$ V (mV)'], x['$\\Delta$ I (mA)']], calculate_R), axis=1)\n",
    "df = df[(df['Temperature (K)'] > 120) & (df['Temperature (K)'] < 150)]\n",
    "df.head(5)"
   ]
  },
  {
   "cell_type": "code",
   "execution_count": 127,
   "metadata": {},
   "outputs": [],
   "source": [
    "# PLOTTING OUR DATA\n",
    "xdata, ydata, error_x, error_y = df['Temperature (K)'], df['Resistance ($\\Omega$)'], df['$\\Delta$ T (K)'], df['$\\Delta$ R ($\\Omega$)']\n"
   ]
  },
  {
   "cell_type": "code",
   "execution_count": 128,
   "metadata": {},
   "outputs": [
    {
     "data": {
      "image/png": "[encoded data removed]",
      "text/plain": [
       "<IPython.core.display.Image object>"
      ]
     },
     "metadata": {},
     "output_type": "display_data"
    }
   ],
   "source": [
    "g = ROOT.TGraphErrors(len(xdata), array('d',xdata), array('d',ydata), array('d',error_x), array('d',error_y))\n",
    "c4 = ROOT.TCanvas()\n",
    "g.Draw('ap')\n",
    "g.SetTitle('Experimental Data')\n",
    "c4.Draw()"
   ]
  },
  {
   "cell_type": "code",
   "execution_count": 129,
   "metadata": {},
   "outputs": [],
   "source": [
    "# DEFINING THE SIGMOID FUNCTION \n",
    "Sigmoid = lambda x, L ,x0, k : L/(1 + np.exp(-k*(x-x0))) \n",
    "# L: Height, k: steepness, x0: center"
   ]
  },
  {
   "cell_type": "code",
   "execution_count": 130,
   "metadata": {},
   "outputs": [],
   "source": [
    "%%cpp\n",
    "double sigmoid(double *x, double *par){\n",
    "    return par[0]/(1 + TMath::Exp(-par[2]*(x[0]-par[1])));\n",
    "}"
   ]
  },
  {
   "cell_type": "code",
   "execution_count": 131,
   "metadata": {},
   "outputs": [
    {
     "name": "stdout",
     "output_type": "stream",
     "text": [
      " FCN=626.981 FROM MIGRAD    STATUS=CONVERGED      77 CALLS          78 TOTAL\n",
      "                     EDM=2.12518e-07    STRATEGY= 1      ERROR MATRIX ACCURATE \n",
      "  EXT PARAMETER                                   STEP         FIRST   \n",
      "  NO.   NAME      VALUE            ERROR          SIZE      DERIVATIVE \n",
      "   1  p0           1.61054e-02   3.73598e-05   4.05327e-07   1.62889e+01\n",
      "   2  p1           1.39946e+02   1.75051e-02   1.89596e-04   6.04496e-04\n",
      "   3  p2           1.28982e+00   2.73616e-02   2.89318e-04  -3.94178e-03\n"
     ]
    }
   ],
   "source": [
    "fitFunc = ROOT.TF1(\"fitFunc\", ROOT.sigmoid, xdata.min(), xdata.max(), npar=3)\n",
    "fitFunc.SetParameters(0.01723423,140.092662,1.14455349) \n",
    "res = g.Fit(fitFunc, \"S\") "
   ]
  },
  {
   "cell_type": "code",
   "execution_count": 132,
   "metadata": {},
   "outputs": [
    {
     "data": {
      "image/png": "[encoded data removed]",
      "text/plain": [
       "<IPython.core.display.Image object>"
      ]
     },
     "metadata": {},
     "output_type": "display_data"
    }
   ],
   "source": [
    "c2 = ROOT.TCanvas()\n",
    "g.Draw('ap')\n",
    "g.SetTitle('Fitted Data')\n",
    "c2.Draw()"
   ]
  },
  {
   "cell_type": "code",
   "execution_count": 142,
   "metadata": {},
   "outputs": [
    {
     "data": {
      "image/png": "[encoded data removed]",
      "text/plain": [
       "<IPython.core.display.Image object>"
      ]
     },
     "metadata": {},
     "output_type": "display_data"
    }
   ],
   "source": [
    "derivativeGraph = ROOT.TGraph()\n",
    "\n",
    "num_points = 100\n",
    "x_min = xdata.min()\n",
    "x_max = xdata.max()\n",
    "step = (x_max - x_min) / num_points\n",
    "xdata2, ydata2 = [], []\n",
    "\n",
    "for i in range(num_points):\n",
    "    x = x_min + i * step\n",
    "    xdata2.append(x)\n",
    "    derivative_value = fitFunc.Derivative(x)\n",
    "    ydata2.append(derivative_value)\n",
    "    derivativeGraph.SetPoint(i, x, derivative_value)\n",
    "\n",
    "c = ROOT.TCanvas()\n",
    "derivativeGraph.Draw(\"AL\")\n",
    "derivativeGraph.SetTitle('First Derivative')\n",
    "c.Draw()"
   ]
  },
  {
   "cell_type": "code",
   "execution_count": 146,
   "metadata": {},
   "outputs": [
    {
     "data": {
      "text/plain": [
       "139.94576288000002"
      ]
     },
     "execution_count": 146,
     "metadata": {},
     "output_type": "execute_result"
    }
   ],
   "source": [
    "xdata2[ydata2.index(max(ydata2))]"
   ]
  },
  {
   "cell_type": "code",
   "execution_count": null,
   "metadata": {},
   "outputs": [],
   "source": []
  }
 ],
 "metadata": {
  "kernelspec": {
   "display_name": "pyroot",
   "language": "python",
   "name": "python3"
  },
  "language_info": {
   "codemirror_mode": {
    "name": "ipython",
    "version": 3
   },
   "file_extension": ".py",
   "mimetype": "text/x-python",
   "name": "python",
   "nbconvert_exporter": "python",
   "pygments_lexer": "ipython3",
   "version": "3.11.6"
  },
  "orig_nbformat": 4
 },
 "nbformat": 4,
 "nbformat_minor": 2
}
