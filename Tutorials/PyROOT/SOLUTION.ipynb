{
 "cells": [
  {
   "cell_type": "markdown",
   "metadata": {},
   "source": [
    "### SUPERCONDUCTIVITY EXAMPLE WITH ROOT"
   ]
  },
  {
   "cell_type": "markdown",
   "metadata": {},
   "source": [
    "In a superconductivity experiment, a four-wire technique was used to simultaneously measure the voltage across a superconducting sample of unknown material. Using the experimental data from this experiment, you will calculate the resistance and determine the critical temperature $T_c$ for the superconducting sample, and determine its identity.\n",
    "\n",
    "Superconductors are characterized by a critical temperature, Tc, below which they have zero resistance. In the broadest terms, there are two classes of superconductors. There are those with low values for TC, typically 10 K or less, and those with much higher TC. Some of the high-TC materials at atmospheric pressures can get up to 150 K while still being superconductors. \n",
    "\n",
    "The high-TC material you will examine in this experiment is one of two different cuprates. The first is YBa2Cu3O7. In this material the stoichiometric ratio of Y, Ba, and Cu is 1,2,3 and hence it is sometimes called a “123” superconductor. The number of Oxygen atoms present is key to the superconducting properties of the sample. It is also known as “YBCO”. The structure is related to that of perovskites.\n",
    "\n",
    "The other sample is Bi-Sr-Ca-Cu-oxide. Several different compounds are present in the sample, but the one giving rise to the properties we will observe is BiSr2Ca2Cu3O10. It will show superconducting properties at even higher temperatures than the YBCO sample. The abbreviation BSCCO frequently gets pronounced as “Bis - co”.\n",
    "\n",
    "Experimentally, Tc is most often taken to be at the transition point of the resistance vs. temperature plot - the onset of the transition (if you are warming up from LN2 temperature) back to normal resistance behavior. This temperature must be determined as accurately as possible. You must understand the limitations of the system and determine a reasonable uncertainty in your temperature results. When you compare your numbers to those available elsewhere (cite your sources), you must realize that our samples may be somewhat different and not look exactly like those published elsewhere. Lastly, even in the best samples and experiments there appears to be a natural width of a few degrees Kelvin which corresponds to the onset of superconductivity. This itself is not entirely understood and a bit at odds with the (easier to explain) low-temperature superconductors, which typically exhibit a “sharper” transition.\n",
    "\n",
    "Your tasks are:\n",
    "\n",
    "1) Plot Resistance vs Temperature with error bars.\n",
    "2) Consider an analysis methods for identifying the important features of your plot. You may choose to take one or more numerical derivatives to locate the temperature of interest. You may also choose to fit an appropriate analytical function to your data, to allow extraction of appropriate fit parameters. I suggest fitting a sigmoid:\n",
    "\n",
    "$$S(x) = \\frac{L}{1+e^{-k(x-x_0)}}$$\n",
    "\n",
    "Where L: Height, k: steepness, x0: center\n",
    "\n",
    "3) Determine the onset temperature of the transition where the resistance begins to in- crease from zero, with uncertainty. Feel free to estimate your uncertainties as constant values measured by the Keithley 2000 multiplier or just use least count.\n",
    "4) Compare your temperature to literature values for your superconducting sample. The onset temperature value should agree within reasonable uncertainties, but there may be differences. One plausible explanation for this relates to the size of the ceramic superconducting disk and that the temperature across it may not be uniform. Try to articulate why this might produce an effect in your measurements. Ultimately, you should be able to tell if our sample is YBCO or BSCCO.\n",
    "\n",
    "The purpose of this exercise is to give you a first order of understanding how to work with experimental data. The source file you have needs to be cleaned first, as only the rows with three columns are the ones that contain valuable data (the other ones are noise). Moreover, I want you to have a first and simple use case of ROOT plotting tools, so you should not use matplotlib or any other python libraries, do all your plots with ROOT. Also, you cannot use any fitting method other than the ones that come with ROOT, but you can use Numpy and Pandas if you want for simple data management and operations, but not for fittings. "
   ]
  },
  {
   "cell_type": "markdown",
   "metadata": {},
   "source": [
    "STEP 1: Import ROOT and other required packages"
   ]
  },
  {
   "cell_type": "code",
   "execution_count": 78,
   "metadata": {},
   "outputs": [],
   "source": [
    "# ---------------------------------------------------------------------------------------------\n",
    "# IMPORT ROOT AND ARRAY (a module used to convert Python lists to arrays compatible with ROOT)\n",
    "# ---------------------------------------------------------------------------------------------\n",
    "import ROOT\n",
    "from array import array\n",
    "\n",
    "# ---------------------------------------------------------------------------------------------\n",
    "# IMPORT OTHER USEFUL PACKAGES\n",
    "# ---------------------------------------------------------------------------------------------\n",
    "import numpy as np\n",
    "import pandas as pd\n"
   ]
  },
  {
   "cell_type": "markdown",
   "metadata": {},
   "source": [
    "STEP 2: Modularize code by creating functions"
   ]
  },
  {
   "cell_type": "code",
   "execution_count": 79,
   "metadata": {},
   "outputs": [],
   "source": [
    "# ---------------------------------------------------------------------------------------------\n",
    "# DEFINING A FUNCTION THAT CLEANS THE DATA \n",
    "# ---------------------------------------------------------------------------------------------\n",
    "def CLEAN_INPUT(file):\n",
    "    # cleaning superconductor data\n",
    "    data = []\n",
    "    clean_data = []\n",
    "\n",
    "    # extract raw data\n",
    "    f = open(file, 'r')\n",
    "    for line in f:\n",
    "        data.append(line)\n",
    "    f.close()\n",
    "\n",
    "    for i in range(0, len(data)):\n",
    "        # broken apart by spaces\n",
    "        temp = data[i].split(' ')\n",
    "        if len(temp) == 3:\n",
    "            clean_data.append(temp)\n",
    "            # gets rid of newline in str\n",
    "            clean_data[-1][-1] = clean_data[-1][-1].replace('\\n','')\n",
    "\n",
    "    # convert str to flt\n",
    "    clean_data = np.array(clean_data, dtype = float)\n",
    "    return clean_data\n",
    "\n",
    "# ---------------------------------------------------------------------------------------------\n",
    "# DEFINING A FUNCTION THAT RETURNS THE UNCERTAINTY USING VARIATIONAL METHOD \n",
    "# ---------------------------------------------------------------------------------------------\n",
    "def uncertainty_var(values, deltas, function):\n",
    "    values, deltas = np.array(values), np.array(deltas)\n",
    "    delta_matrix = deltas*np.identity(values.shape[0])\n",
    "    sum = 0\n",
    "    for delta in delta_matrix:\n",
    "        sum += (0.5*(abs(function(values + delta) - function(values)) + abs(function(values-delta) - function(values))))**2\n",
    "    return np.sqrt(sum)\n",
    "\n",
    "# ---------------------------------------------------------------------------------------------\n",
    "# DEFINING A FUNCTION THAT CALCULATES THE RESISTANCE HAVING VOLTAGE AND CURRENT AS INPUTS \n",
    "# ---------------------------------------------------------------------------------------------\n",
    "calculate_R = lambda param : abs(param[0]/param[1]) # param = [V, I]\n"
   ]
  },
  {
   "cell_type": "markdown",
   "metadata": {},
   "source": [
    "STEP 3: Read and clean your data "
   ]
  },
  {
   "cell_type": "code",
   "execution_count": 80,
   "metadata": {},
   "outputs": [
    {
     "data": {
      "text/html": [
       "<div>\n",
       "<style scoped>\n",
       "    .dataframe tbody tr th:only-of-type {\n",
       "        vertical-align: middle;\n",
       "    }\n",
       "\n",
       "    .dataframe tbody tr th {\n",
       "        vertical-align: top;\n",
       "    }\n",
       "\n",
       "    .dataframe thead th {\n",
       "        text-align: right;\n",
       "    }\n",
       "</style>\n",
       "<table border=\"1\" class=\"dataframe\">\n",
       "  <thead>\n",
       "    <tr style=\"text-align: right;\">\n",
       "      <th></th>\n",
       "      <th>I (mA)</th>\n",
       "      <th>Voltage (mV)</th>\n",
       "      <th>Temperature (K)</th>\n",
       "      <th>Resistance ($\\Omega$)</th>\n",
       "      <th>$\\Delta$ V (mV)</th>\n",
       "      <th>$\\Delta$ I (mA)</th>\n",
       "      <th>$\\Delta$ T (K)</th>\n",
       "      <th>$\\Delta$ R ($\\Omega$)</th>\n",
       "    </tr>\n",
       "  </thead>\n",
       "  <tbody>\n",
       "    <tr>\n",
       "      <th>85</th>\n",
       "      <td>100.051671</td>\n",
       "      <td>-0.000018</td>\n",
       "      <td>100.083911</td>\n",
       "      <td>-1.848838e-07</td>\n",
       "      <td>0.01</td>\n",
       "      <td>0.01</td>\n",
       "      <td>0.01</td>\n",
       "      <td>0.000100</td>\n",
       "    </tr>\n",
       "    <tr>\n",
       "      <th>86</th>\n",
       "      <td>100.049473</td>\n",
       "      <td>-0.001050</td>\n",
       "      <td>100.346229</td>\n",
       "      <td>-1.049612e-05</td>\n",
       "      <td>0.01</td>\n",
       "      <td>0.01</td>\n",
       "      <td>0.01</td>\n",
       "      <td>0.000089</td>\n",
       "    </tr>\n",
       "    <tr>\n",
       "      <th>87</th>\n",
       "      <td>100.049900</td>\n",
       "      <td>-0.001066</td>\n",
       "      <td>100.606246</td>\n",
       "      <td>-1.065554e-05</td>\n",
       "      <td>0.01</td>\n",
       "      <td>0.01</td>\n",
       "      <td>0.01</td>\n",
       "      <td>0.000089</td>\n",
       "    </tr>\n",
       "    <tr>\n",
       "      <th>88</th>\n",
       "      <td>100.051303</td>\n",
       "      <td>-0.000051</td>\n",
       "      <td>100.883340</td>\n",
       "      <td>-5.056752e-07</td>\n",
       "      <td>0.01</td>\n",
       "      <td>0.01</td>\n",
       "      <td>0.01</td>\n",
       "      <td>0.000099</td>\n",
       "    </tr>\n",
       "    <tr>\n",
       "      <th>89</th>\n",
       "      <td>100.055370</td>\n",
       "      <td>-0.000115</td>\n",
       "      <td>101.192219</td>\n",
       "      <td>-1.147418e-06</td>\n",
       "      <td>0.01</td>\n",
       "      <td>0.01</td>\n",
       "      <td>0.01</td>\n",
       "      <td>0.000099</td>\n",
       "    </tr>\n",
       "  </tbody>\n",
       "</table>\n",
       "</div>"
      ],
      "text/plain": [
       "        I (mA)  Voltage (mV)  Temperature (K)  Resistance ($\\Omega$)  \\\n",
       "85  100.051671     -0.000018       100.083911          -1.848838e-07   \n",
       "86  100.049473     -0.001050       100.346229          -1.049612e-05   \n",
       "87  100.049900     -0.001066       100.606246          -1.065554e-05   \n",
       "88  100.051303     -0.000051       100.883340          -5.056752e-07   \n",
       "89  100.055370     -0.000115       101.192219          -1.147418e-06   \n",
       "\n",
       "    $\\Delta$ V (mV)  $\\Delta$ I (mA)  $\\Delta$ T (K)  $\\Delta$ R ($\\Omega$)  \n",
       "85             0.01             0.01            0.01               0.000100  \n",
       "86             0.01             0.01            0.01               0.000089  \n",
       "87             0.01             0.01            0.01               0.000089  \n",
       "88             0.01             0.01            0.01               0.000099  \n",
       "89             0.01             0.01            0.01               0.000099  "
      ]
     },
     "execution_count": 80,
     "metadata": {},
     "output_type": "execute_result"
    }
   ],
   "source": [
    "# ---------------------------------------------------------------------------------------------\n",
    "# CLEANING OUR DATA AND STORING IT IN A PANDAS DATAFRAME\n",
    "# ---------------------------------------------------------------------------------------------\n",
    "data = CLEAN_INPUT('warmingdata.txt') # I (mA), Voltage (mV), Temperature (K)\n",
    "df = pd.DataFrame(data, columns=['I (mA)', 'Voltage (mV)', 'Temperature (K)'])\n",
    "df['I (mA)'] = df['I (mA)']*1e2\n",
    "df['Voltage (mV)'] = df['Voltage (mV)']*1e3\n",
    "df['Resistance ($\\Omega$)'] = df['Voltage (mV)']/df['I (mA)']\n",
    "df = df[(df['Resistance ($\\Omega$)']<1.25e-2) | (df['Resistance ($\\Omega$)']>1.49e-2)] # Adjusting vertical range to fit data\n",
    "\n",
    "# ---------------------------------------------------------------------------------------------\n",
    "# ADDING UNCERTAINTIES TO OUR DATASET\n",
    "# ---------------------------------------------------------------------------------------------\n",
    "df['$\\Delta$ V (mV)'], df['$\\Delta$ I (mA)'], df['$\\Delta$ T (K)'] = 0.01, 0.01, 0.01\n",
    "df['$\\Delta$ R ($\\Omega$)'] = df.apply(lambda x: uncertainty_var([x['Voltage (mV)'], x['I (mA)']], [x['$\\Delta$ V (mV)'], x['$\\Delta$ I (mA)']], calculate_R), axis=1)\n",
    "df = df[(df['Temperature (K)'] > 100)] # Making a cut to improve sigmoid approximation\n",
    "df.head(5)"
   ]
  },
  {
   "cell_type": "markdown",
   "metadata": {},
   "source": [
    "STEP 4: Plot our data"
   ]
  },
  {
   "cell_type": "code",
   "execution_count": 81,
   "metadata": {},
   "outputs": [
    {
     "data": {
      "image/png": "[encoded data removed]",
      "text/plain": [
       "<IPython.core.display.Image object>"
      ]
     },
     "metadata": {},
     "output_type": "display_data"
    }
   ],
   "source": [
    "# ---------------------------------------------------------------------------------------------\n",
    "# EXTRACT OUT DATA FROM THE PANDAS DATAFRAME\n",
    "# ---------------------------------------------------------------------------------------------\n",
    "xdata, ydata, error_x, error_y = df['Temperature (K)'], df['Resistance ($\\Omega$)'], df['$\\Delta$ T (K)'], df['$\\Delta$ R ($\\Omega$)']\n",
    "\n",
    "# ---------------------------------------------------------------------------------------------\n",
    "# PLOT DATA WITH UNCERTAINTIES USING ROOT\n",
    "# ---------------------------------------------------------------------------------------------\n",
    "g = ROOT.TGraphErrors(len(xdata), array('d',xdata), array('d',ydata), array('d',error_x), array('d',error_y))\n",
    "c4 = ROOT.TCanvas()\n",
    "g.Draw('ap')\n",
    "g.SetTitle('Experimental Data')\n",
    "c4.Draw()"
   ]
  },
  {
   "cell_type": "markdown",
   "metadata": {},
   "source": [
    "STEP 5: Fit to sigmoid"
   ]
  },
  {
   "cell_type": "code",
   "execution_count": 82,
   "metadata": {},
   "outputs": [],
   "source": [
    "# ---------------------------------------------------------------------------------------------\n",
    "# DEFINE OUR C++ FUNCTION TO FIT (ROOT NEEDS THIS FUNCTION TO BE IN C++)\n",
    "# par = [L, k, x0] where L: Height, x0: center, k: steepness\n",
    "# ---------------------------------------------------------------------------------------------"
   ]
  },
  {
   "cell_type": "code",
   "execution_count": 83,
   "metadata": {},
   "outputs": [],
   "source": [
    "%%cpp\n",
    "double sigmoid(double *x, double *par){\n",
    "    return par[0]/(1 + TMath::Exp(-par[2]*(x[0]-par[1])));\n",
    "}"
   ]
  },
  {
   "cell_type": "code",
   "execution_count": 89,
   "metadata": {},
   "outputs": [
    {
     "name": "stdout",
     "output_type": "stream",
     "text": [
      " FCN=176.303 FROM MIGRAD    STATUS=CONVERGED     139 CALLS         140 TOTAL\n",
      "                     EDM=2.17287e-12    STRATEGY= 1  ERROR MATRIX UNCERTAINTY   2.0 per cent\n",
      "  EXT PARAMETER                                   STEP         FIRST   \n",
      "  NO.   NAME      VALUE            ERROR          SIZE      DERIVATIVE \n",
      "   1  p0           1.23106e-02   1.97998e-05  -9.75811e-09  -1.76550e-01\n",
      "   2  p1           1.15375e+02   1.98340e-02   4.36950e-06   2.55477e-05\n",
      "   3  p2           3.83291e-01   2.41606e-03   2.33770e-06  -1.24955e-03\n"
     ]
    }
   ],
   "source": [
    "# ---------------------------------------------------------------------------------------------\n",
    "# FITTING TO OUR SIGMOID FUNCTION\n",
    "# ---------------------------------------------------------------------------------------------\n",
    "fitFunc = ROOT.TF1(\"fitFunc\", ROOT.sigmoid, xdata.min(), xdata.max(), npar=3)\n",
    "fitFunc.SetParameters(0.01723423,120.092662,1.14455349) # Making a parameter estimation\n",
    "res = g.Fit(fitFunc, \"S\") \n",
    "parameter_values = [fitFunc.GetParameter(i) for i in range(3)]"
   ]
  },
  {
   "cell_type": "code",
   "execution_count": 90,
   "metadata": {},
   "outputs": [
    {
     "data": {
      "image/png": "[encoded data removed]",
      "text/plain": [
       "<IPython.core.display.Image object>"
      ]
     },
     "metadata": {},
     "output_type": "display_data"
    }
   ],
   "source": [
    "# ---------------------------------------------------------------------------------------------\n",
    "# PLOTTING OUR FITTED FUNCTION\n",
    "# ---------------------------------------------------------------------------------------------\n",
    "c2 = ROOT.TCanvas()\n",
    "g.Draw('ap')\n",
    "g.SetTitle('Fitted Data')\n",
    "c2.Draw()"
   ]
  },
  {
   "cell_type": "markdown",
   "metadata": {},
   "source": [
    "STEP 6: FINDING THE CRITICAL TEMPERATURE"
   ]
  },
  {
   "cell_type": "code",
   "execution_count": 91,
   "metadata": {},
   "outputs": [
    {
     "data": {
      "image/png": "[encoded data removed]",
      "text/plain": [
       "<IPython.core.display.Image object>"
      ]
     },
     "metadata": {},
     "output_type": "display_data"
    }
   ],
   "source": [
    "# ---------------------------------------------------------------------------------------------\n",
    "# TAKING THE NUMERICAL DERIVATIVE TO FIND MAX RATE OF CHANGE\n",
    "# ---------------------------------------------------------------------------------------------\n",
    "derivativeGraph = ROOT.TGraph()\n",
    "\n",
    "num_points = 100\n",
    "x_min = xdata.min()\n",
    "x_max = xdata.max()\n",
    "step = (x_max - x_min) / num_points\n",
    "xdata2, ydata2 = [], []\n",
    "\n",
    "for i in range(num_points):\n",
    "    x = x_min + i * step\n",
    "    xdata2.append(x)\n",
    "    derivative_value = fitFunc.Derivative(x)\n",
    "    ydata2.append(derivative_value)\n",
    "    derivativeGraph.SetPoint(i, x, derivative_value)\n",
    "\n",
    "c = ROOT.TCanvas()\n",
    "derivativeGraph.Draw(\"AL\")\n",
    "derivativeGraph.SetTitle('First Derivative')\n",
    "c.Draw()"
   ]
  },
  {
   "cell_type": "code",
   "execution_count": 92,
   "metadata": {},
   "outputs": [
    {
     "data": {
      "text/latex": [
       "Critical Temperature: (115.2 $\\pm$ 0.4) K"
      ],
      "text/plain": [
       "<IPython.core.display.Latex object>"
      ]
     },
     "metadata": {},
     "output_type": "display_data"
    }
   ],
   "source": [
    "# ---------------------------------------------------------------------------------------------\n",
    "# EXTRACTING CRITICAL TEMPERATURE\n",
    "# ---------------------------------------------------------------------------------------------\n",
    "TC = xdata2[ydata2.index(max(ydata2))]\n",
    "delta_T = parameter_values[2]\n",
    "\n",
    "from IPython.display import display, Latex\n",
    "display(Latex('Critical Temperature: ({:.1f} $\\pm$ {:.1f}) K'.format(TC, delta_T)))"
   ]
  },
  {
   "cell_type": "markdown",
   "metadata": {},
   "source": [
    "STEP 7: Determine the superconducting sample"
   ]
  },
  {
   "cell_type": "code",
   "execution_count": 93,
   "metadata": {},
   "outputs": [
    {
     "data": {
      "text/plain": [
       "6.7037532962962905"
      ]
     },
     "execution_count": 93,
     "metadata": {},
     "output_type": "execute_result"
    }
   ],
   "source": [
    "known_temp = 108\n",
    "error = abs((known_temp - TC)/known_temp)*100\n",
    "error"
   ]
  },
  {
   "cell_type": "markdown",
   "metadata": {},
   "source": [
    "Our superconducting sample seems to be bismuth strontium calcium copper oxide (BSCCO), which has a critical temperature of 108 K. This represents an experimental percentage error of $6.7\\%$. "
   ]
  },
  {
   "cell_type": "markdown",
   "metadata": {},
   "source": []
  }
 ],
 "metadata": {
  "kernelspec": {
   "display_name": "pyroot",
   "language": "python",
   "name": "python3"
  },
  "language_info": {
   "codemirror_mode": {
    "name": "ipython",
    "version": 3
   },
   "file_extension": ".py",
   "mimetype": "text/x-python",
   "name": "python",
   "nbconvert_exporter": "python",
   "pygments_lexer": "ipython3",
   "version": "3.11.6"
  },
  "orig_nbformat": 4
 },
 "nbformat": 4,
 "nbformat_minor": 2
}
