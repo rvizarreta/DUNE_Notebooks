{
 "cells": [
  {
   "cell_type": "code",
   "execution_count": 2,
   "metadata": {},
   "outputs": [
    {
     "name": "stdout",
     "output_type": "stream",
     "text": [
      "Welcome to JupyROOT 6.28/04\n"
     ]
    }
   ],
   "source": [
    "import ROOT"
   ]
  },
  {
   "cell_type": "code",
   "execution_count": 63,
   "metadata": {},
   "outputs": [],
   "source": [
    "def TriangleFunction(u, par):\n",
    "    x = u[0]\n",
    "    height, shift = par\n",
    "    x -= shift\n",
    "    return 0 if abs(x)>17 else height*(17-abs(x))"
   ]
  },
  {
   "cell_type": "code",
   "execution_count": 64,
   "metadata": {},
   "outputs": [],
   "source": [
    "def MyFit(h2BaseLpos, h1BaseReturn, ModTitle, i=-1):\n",
    "    c2 = ROOT.TCanvas(\"dummy\", \"dummy\")\n",
    "    c2.cd()\n",
    "\n",
    "    NumberLposBins = h2BaseLpos.GetYaxis().GetNbins()\n",
    "    NumberRotationPoints = 6\n",
    "    NumberRotationBins = NumberLposBins / NumberRotationPoints\n",
    "\n",
    "    H1Name = \"\"\n",
    "    F1Name = \"\"\n",
    "    if i >= 0 and i < NumberRotationPoints:\n",
    "        H1Name = \"{}_rot{}\".format(ModTitle, i)\n",
    "        F1Name = \"{}_fit_rot{}\".format(ModTitle, i)\n",
    "        minbin = i * NumberRotationBins\n",
    "        maxbin = minbin + NumberRotationBins\n",
    "        h1Base = h2BaseLpos.ProjectionX(H1Name, minbin, maxbin)\n",
    "    else:\n",
    "        H1Name = \"{}_shift\".format(ModTitle)\n",
    "        F1Name = \"{}_fit\".format(ModTitle)\n",
    "        h1Base = h2BaseLpos.ProjectionX(H1Name)\n",
    "\n",
    "    h1Base.Scale(1.0 / NumberLposBins)\n",
    "    h1Base.SetName(H1Name)\n",
    "    h1Base.SetTitle(H1Name)\n",
    "    h1Base.GetYaxis().SetTitle(\"Energy (MeV)\")\n",
    "\n",
    "    f1 = ROOT.TF1(F1Name, \"TriangleFunction\", -17.0, 17.0, 2)\n",
    "    f1.SetParameter(0, 3.5)\n",
    "    f1.SetParameter(1, 0.0)\n",
    "    h1Base.Fit(F1Name, \"Q\", \"Q\")\n",
    "    shift = f1.GetParameter(1)\n",
    "    h1Base.Fit(F1Name, \"Q\", \"Q\", shift - 10.0, shift + 10.0)\n",
    "    shift = f1.GetParameter(1)\n",
    "\n",
    "    if h1BaseReturn is not None:\n",
    "        h1BaseReturn = h1Base\n",
    "\n",
    "    return shift"
   ]
  },
  {
   "cell_type": "code",
   "execution_count": 65,
   "metadata": {},
   "outputs": [],
   "source": [
    "def DoAlignment():\n",
    "    fptext = open(\"AlignmentConstants.txt\", \"w\")\n",
    "\n",
    "    fin = ROOT.TFile(\"ReadNT.root\")\n",
    "    moduleLposBase = fin.Get(\"moduleLposBase\")\n",
    "    \n",
    "    moduleLposBase.GetYaxis().SetTitle(\"lpos\")\n",
    "    moduleLposBase.GetZaxis().SetTitle(\"triangle base\")\n",
    "    \n",
    "    c1 = ROOT.TCanvas(\"c1\", \"c1\")\n",
    "    c1.Divide(2, 2)\n",
    "    c1.Print(\"AlignmentBook.pdf[\")\n",
    "\n",
    "    for modbin in range(1, 241):\n",
    "        module_number = moduleLposBase.GetXaxis().GetBinLowEdge(modbin)\n",
    "        module = int(5 + module_number) - 5\n",
    "        plane = int(2 * (module_number + 5)) % 2 + 1\n",
    "\n",
    "        print(\"Doing alignment for module\", module, \"plane\", plane)\n",
    "\n",
    "        if plane == 1:\n",
    "            c1.Clear(\"D\")\n",
    "\n",
    "        ModTitle = \"\"\n",
    "        if module >= 0:\n",
    "            ModTitle = \"mod{:03d}pl{:1d}\".format(module, plane)\n",
    "        if module < 0:\n",
    "            ModTitle = \"modm{:1d}pl{:1d}\".format(module, plane)\n",
    "\n",
    "        moduleLposBase.GetXaxis().SetRange(modbin, modbin)\n",
    "\n",
    "        H2Name = \"{}_2D\".format(ModTitle)\n",
    "        h2BaseLpos = moduleLposBase.Project3D(\"yz\")\n",
    "        h2BaseLpos.SetName(H2Name)\n",
    "        h2BaseLpos.SetTitle(\"Module {} Plane {};Base Position (mm);Longitudinal Position (mm);Average Energy (MeV)\".format(module, plane))\n",
    "\n",
    "        if h2BaseLpos.GetEntries() == 0:\n",
    "            continue\n",
    "\n",
    "        h1Base = ROOT.TH1D()\n",
    "        shift = -MyFit(h2BaseLpos, h1Base, ModTitle)\n",
    "\n",
    "        lpos_point = [-1200.0 + 400.0 * i + 200.0 for i in range(6)]\n",
    "        shift_point = [MyFit(h2BaseLpos, None, ModTitle, i) for i in range(6)]\n",
    "        tgrRotation = ROOT.TGraph(6, shift_point, lpos_point)\n",
    "        tgrFit = ROOT.TGraph(6, lpos_point, shift_point)\n",
    "        tgrFit.Fit(\"pol1\", \"Q\", \"Q\")\n",
    "        LowPoint = tgrFit.GetFunction(\"pol1\").Eval(-1000.0)\n",
    "        HighPoint = tgrFit.GetFunction(\"pol1\").Eval(1000.0)\n",
    "        rotation = 1000 * atan((HighPoint - LowPoint) / 2000.0)\n",
    "\n",
    "        c1.cd(2 * (plane - 1) + 1)\n",
    "        h2BaseLpos.SetMaximum(4)\n",
    "        h2BaseLpos.Draw(\"colz\")\n",
    "        tgrRotation.SetMarkerStyle(ROOT.kOpenCircle)\n",
    "        tgrRotation.Draw(\"P same\")\n",
    "        tline = ROOT.TLine(LowPoint, -1000.0, HighPoint, 1000.0)\n",
    "        tline.SetLineWidth(3)\n",
    "        tline.Draw(\"same\")\n",
    "        c1.cd(2 * (plane - 1) + 2)\n",
    "        h1Base.SetMaximum(4)\n",
    "        h1Base.SetTitle(\"Module {} Plane {};Base Position (mm);Average Energy (MeV)\".format(module, plane))\n",
    "        h1Base.Draw()\n",
    "        ModString = \"Module {} Plane {}\".format(module, plane)\n",
    "        ShiftString = \"Shift = {:+5.3f} mm\".format(shift)\n",
    "        RotationString = \"Rotation = {:+5.3f} mrad\\n\".format(rotation)\n",
    "        ModLabel = ROOT.TPaveLabel(5.0, 4.00, 17.0, 3.75, ModString)\n",
    "        ShiftLabel = ROOT.TPaveLabel(5.0, 3.75, 17.0, 3.50, ShiftString)\n",
    "        RotationLabel = ROOT.TPaveLabel(5.0, 3.50, 17.0, 3.25, RotationString)\n",
    "        ModLabel.Draw()\n",
    "        ShiftLabel.Draw()\n",
    "        RotationLabel.Draw()\n",
    "        if plane == 2:\n",
    "            c1.Print(\"AlignmentBook.pdf\")\n",
    "\n",
    "        c2 = ROOT.TCanvas(\"c2\", \"c2\", 800, 500)\n",
    "        c2.Divide(2, 1)\n",
    "        c2.cd(1)\n",
    "        h1Base.Draw()\n",
    "        c2.cd(2)\n",
    "        h2BaseLpos.Draw(\"colz\")\n",
    "        tgrRotation.Draw(\"P same\")\n",
    "        tline.Draw(\"same\")\n",
    "        c2.Print(\"alignmentPlotDump/mod{:03d}pl{}.png\".format(module, plane))\n",
    "        del c2\n",
    "\n",
    "        fptext.write(\"module: {} plane: {} shift: {} rotation: {}\\n\".format(module, plane, shift, rotation))\n",
    "\n",
    "    c1.Print(\"AlignmentBook.pdf]\")\n",
    "    fptext.close()"
   ]
  },
  {
   "cell_type": "code",
   "execution_count": 67,
   "metadata": {},
   "outputs": [
    {
     "name": "stdout",
     "output_type": "stream",
     "text": [
      "Doing alignment for module -5 plane 1\n",
      "Doing alignment for module -5 plane 2\n",
      "Doing alignment for module -4 plane 1\n",
      "Doing alignment for module -4 plane 2\n",
      "Doing alignment for module -3 plane 1\n",
      "Doing alignment for module -3 plane 2\n",
      "Doing alignment for module -2 plane 1\n",
      "Doing alignment for module -2 plane 2\n",
      "Doing alignment for module -1 plane 1\n",
      "Doing alignment for module -1 plane 2\n",
      "Doing alignment for module 0 plane 1\n",
      "Doing alignment for module 0 plane 2\n",
      "Doing alignment for module 1 plane 1\n"
     ]
    },
    {
     "ename": "TypeError",
     "evalue": "TH1D* TH2::ProjectionX(const char* name = \"_px\", int firstybin = 0, int lastybin = -1, const char* option = \"\") =>\n    TypeError: could not convert argument 2 (int/long conversion expects an integer object)",
     "output_type": "error",
     "traceback": [
      "\u001b[0;31m---------------------------------------------------------------------------\u001b[0m",
      "\u001b[0;31mTypeError\u001b[0m                                 Traceback (most recent call last)",
      "\u001b[1;32m/Users/fermi/Library/CloudStorage/GoogleDrive-rvizarreta14@gmail.com/My Drive/🏛 PhD Repository/🚀 Research/🤖 Experiments/DUNE/💻 DUNE_Notebooks/AlignmentCalibration/ALIGNMENT.ipynb Cell 5\u001b[0m line \u001b[0;36m1\n\u001b[0;32m----> <a href='vscode-notebook-cell:/Users/fermi/Library/CloudStorage/GoogleDrive-rvizarreta14%40gmail.com/My%20Drive/%F0%9F%8F%9B%20PhD%20Repository/%F0%9F%9A%80%20Research/%F0%9F%A4%96%20Experiments/DUNE/%F0%9F%92%BB%20DUNE_Notebooks/AlignmentCalibration/ALIGNMENT.ipynb#W4sZmlsZQ%3D%3D?line=0'>1</a>\u001b[0m DoAlignment()\n",
      "\u001b[1;32m/Users/fermi/Library/CloudStorage/GoogleDrive-rvizarreta14@gmail.com/My Drive/🏛 PhD Repository/🚀 Research/🤖 Experiments/DUNE/💻 DUNE_Notebooks/AlignmentCalibration/ALIGNMENT.ipynb Cell 5\u001b[0m line \u001b[0;36m4\n\u001b[1;32m     <a href='vscode-notebook-cell:/Users/fermi/Library/CloudStorage/GoogleDrive-rvizarreta14%40gmail.com/My%20Drive/%F0%9F%8F%9B%20PhD%20Repository/%F0%9F%9A%80%20Research/%F0%9F%A4%96%20Experiments/DUNE/%F0%9F%92%BB%20DUNE_Notebooks/AlignmentCalibration/ALIGNMENT.ipynb#W4sZmlsZQ%3D%3D?line=40'>41</a>\u001b[0m shift \u001b[39m=\u001b[39m \u001b[39m-\u001b[39mMyFit(h2BaseLpos, h1Base, ModTitle)\n\u001b[1;32m     <a href='vscode-notebook-cell:/Users/fermi/Library/CloudStorage/GoogleDrive-rvizarreta14%40gmail.com/My%20Drive/%F0%9F%8F%9B%20PhD%20Repository/%F0%9F%9A%80%20Research/%F0%9F%A4%96%20Experiments/DUNE/%F0%9F%92%BB%20DUNE_Notebooks/AlignmentCalibration/ALIGNMENT.ipynb#W4sZmlsZQ%3D%3D?line=42'>43</a>\u001b[0m lpos_point \u001b[39m=\u001b[39m [\u001b[39m-\u001b[39m\u001b[39m1200.0\u001b[39m \u001b[39m+\u001b[39m \u001b[39m400.0\u001b[39m \u001b[39m*\u001b[39m i \u001b[39m+\u001b[39m \u001b[39m200.0\u001b[39m \u001b[39mfor\u001b[39;00m i \u001b[39min\u001b[39;00m \u001b[39mrange\u001b[39m(\u001b[39m6\u001b[39m)]\n\u001b[0;32m---> <a href='vscode-notebook-cell:/Users/fermi/Library/CloudStorage/GoogleDrive-rvizarreta14%40gmail.com/My%20Drive/%F0%9F%8F%9B%20PhD%20Repository/%F0%9F%9A%80%20Research/%F0%9F%A4%96%20Experiments/DUNE/%F0%9F%92%BB%20DUNE_Notebooks/AlignmentCalibration/ALIGNMENT.ipynb#W4sZmlsZQ%3D%3D?line=43'>44</a>\u001b[0m shift_point \u001b[39m=\u001b[39m [MyFit(h2BaseLpos, \u001b[39mNone\u001b[39;49;00m, ModTitle, i) \u001b[39mfor\u001b[39;49;00m i \u001b[39min\u001b[39;49;00m \u001b[39mrange\u001b[39;49m(\u001b[39m6\u001b[39;49m)]\n\u001b[1;32m     <a href='vscode-notebook-cell:/Users/fermi/Library/CloudStorage/GoogleDrive-rvizarreta14%40gmail.com/My%20Drive/%F0%9F%8F%9B%20PhD%20Repository/%F0%9F%9A%80%20Research/%F0%9F%A4%96%20Experiments/DUNE/%F0%9F%92%BB%20DUNE_Notebooks/AlignmentCalibration/ALIGNMENT.ipynb#W4sZmlsZQ%3D%3D?line=44'>45</a>\u001b[0m tgrRotation \u001b[39m=\u001b[39m ROOT\u001b[39m.\u001b[39mTGraph(\u001b[39m6\u001b[39m, shift_point, lpos_point)\n\u001b[1;32m     <a href='vscode-notebook-cell:/Users/fermi/Library/CloudStorage/GoogleDrive-rvizarreta14%40gmail.com/My%20Drive/%F0%9F%8F%9B%20PhD%20Repository/%F0%9F%9A%80%20Research/%F0%9F%A4%96%20Experiments/DUNE/%F0%9F%92%BB%20DUNE_Notebooks/AlignmentCalibration/ALIGNMENT.ipynb#W4sZmlsZQ%3D%3D?line=45'>46</a>\u001b[0m tgrFit \u001b[39m=\u001b[39m ROOT\u001b[39m.\u001b[39mTGraph(\u001b[39m6\u001b[39m, lpos_point, shift_point)\n",
      "\u001b[1;32m/Users/fermi/Library/CloudStorage/GoogleDrive-rvizarreta14@gmail.com/My Drive/🏛 PhD Repository/🚀 Research/🤖 Experiments/DUNE/💻 DUNE_Notebooks/AlignmentCalibration/ALIGNMENT.ipynb Cell 5\u001b[0m line \u001b[0;36m4\n\u001b[1;32m     <a href='vscode-notebook-cell:/Users/fermi/Library/CloudStorage/GoogleDrive-rvizarreta14%40gmail.com/My%20Drive/%F0%9F%8F%9B%20PhD%20Repository/%F0%9F%9A%80%20Research/%F0%9F%A4%96%20Experiments/DUNE/%F0%9F%92%BB%20DUNE_Notebooks/AlignmentCalibration/ALIGNMENT.ipynb#W4sZmlsZQ%3D%3D?line=40'>41</a>\u001b[0m shift \u001b[39m=\u001b[39m \u001b[39m-\u001b[39mMyFit(h2BaseLpos, h1Base, ModTitle)\n\u001b[1;32m     <a href='vscode-notebook-cell:/Users/fermi/Library/CloudStorage/GoogleDrive-rvizarreta14%40gmail.com/My%20Drive/%F0%9F%8F%9B%20PhD%20Repository/%F0%9F%9A%80%20Research/%F0%9F%A4%96%20Experiments/DUNE/%F0%9F%92%BB%20DUNE_Notebooks/AlignmentCalibration/ALIGNMENT.ipynb#W4sZmlsZQ%3D%3D?line=42'>43</a>\u001b[0m lpos_point \u001b[39m=\u001b[39m [\u001b[39m-\u001b[39m\u001b[39m1200.0\u001b[39m \u001b[39m+\u001b[39m \u001b[39m400.0\u001b[39m \u001b[39m*\u001b[39m i \u001b[39m+\u001b[39m \u001b[39m200.0\u001b[39m \u001b[39mfor\u001b[39;00m i \u001b[39min\u001b[39;00m \u001b[39mrange\u001b[39m(\u001b[39m6\u001b[39m)]\n\u001b[0;32m---> <a href='vscode-notebook-cell:/Users/fermi/Library/CloudStorage/GoogleDrive-rvizarreta14%40gmail.com/My%20Drive/%F0%9F%8F%9B%20PhD%20Repository/%F0%9F%9A%80%20Research/%F0%9F%A4%96%20Experiments/DUNE/%F0%9F%92%BB%20DUNE_Notebooks/AlignmentCalibration/ALIGNMENT.ipynb#W4sZmlsZQ%3D%3D?line=43'>44</a>\u001b[0m shift_point \u001b[39m=\u001b[39m [MyFit(h2BaseLpos, \u001b[39mNone\u001b[39;49;00m, ModTitle, i) \u001b[39mfor\u001b[39;00m i \u001b[39min\u001b[39;00m \u001b[39mrange\u001b[39m(\u001b[39m6\u001b[39m)]\n\u001b[1;32m     <a href='vscode-notebook-cell:/Users/fermi/Library/CloudStorage/GoogleDrive-rvizarreta14%40gmail.com/My%20Drive/%F0%9F%8F%9B%20PhD%20Repository/%F0%9F%9A%80%20Research/%F0%9F%A4%96%20Experiments/DUNE/%F0%9F%92%BB%20DUNE_Notebooks/AlignmentCalibration/ALIGNMENT.ipynb#W4sZmlsZQ%3D%3D?line=44'>45</a>\u001b[0m tgrRotation \u001b[39m=\u001b[39m ROOT\u001b[39m.\u001b[39mTGraph(\u001b[39m6\u001b[39m, shift_point, lpos_point)\n\u001b[1;32m     <a href='vscode-notebook-cell:/Users/fermi/Library/CloudStorage/GoogleDrive-rvizarreta14%40gmail.com/My%20Drive/%F0%9F%8F%9B%20PhD%20Repository/%F0%9F%9A%80%20Research/%F0%9F%A4%96%20Experiments/DUNE/%F0%9F%92%BB%20DUNE_Notebooks/AlignmentCalibration/ALIGNMENT.ipynb#W4sZmlsZQ%3D%3D?line=45'>46</a>\u001b[0m tgrFit \u001b[39m=\u001b[39m ROOT\u001b[39m.\u001b[39mTGraph(\u001b[39m6\u001b[39m, lpos_point, shift_point)\n",
      "\u001b[1;32m/Users/fermi/Library/CloudStorage/GoogleDrive-rvizarreta14@gmail.com/My Drive/🏛 PhD Repository/🚀 Research/🤖 Experiments/DUNE/💻 DUNE_Notebooks/AlignmentCalibration/ALIGNMENT.ipynb Cell 5\u001b[0m line \u001b[0;36m1\n\u001b[1;32m     <a href='vscode-notebook-cell:/Users/fermi/Library/CloudStorage/GoogleDrive-rvizarreta14%40gmail.com/My%20Drive/%F0%9F%8F%9B%20PhD%20Repository/%F0%9F%9A%80%20Research/%F0%9F%A4%96%20Experiments/DUNE/%F0%9F%92%BB%20DUNE_Notebooks/AlignmentCalibration/ALIGNMENT.ipynb#W4sZmlsZQ%3D%3D?line=13'>14</a>\u001b[0m     minbin \u001b[39m=\u001b[39m i \u001b[39m*\u001b[39m NumberRotationBins\n\u001b[1;32m     <a href='vscode-notebook-cell:/Users/fermi/Library/CloudStorage/GoogleDrive-rvizarreta14%40gmail.com/My%20Drive/%F0%9F%8F%9B%20PhD%20Repository/%F0%9F%9A%80%20Research/%F0%9F%A4%96%20Experiments/DUNE/%F0%9F%92%BB%20DUNE_Notebooks/AlignmentCalibration/ALIGNMENT.ipynb#W4sZmlsZQ%3D%3D?line=14'>15</a>\u001b[0m     maxbin \u001b[39m=\u001b[39m minbin \u001b[39m+\u001b[39m NumberRotationBins\n\u001b[0;32m---> <a href='vscode-notebook-cell:/Users/fermi/Library/CloudStorage/GoogleDrive-rvizarreta14%40gmail.com/My%20Drive/%F0%9F%8F%9B%20PhD%20Repository/%F0%9F%9A%80%20Research/%F0%9F%A4%96%20Experiments/DUNE/%F0%9F%92%BB%20DUNE_Notebooks/AlignmentCalibration/ALIGNMENT.ipynb#W4sZmlsZQ%3D%3D?line=15'>16</a>\u001b[0m     h1Base \u001b[39m=\u001b[39m h2BaseLpos\u001b[39m.\u001b[39;49mProjectionX(H1Name, minbin, maxbin)\n\u001b[1;32m     <a href='vscode-notebook-cell:/Users/fermi/Library/CloudStorage/GoogleDrive-rvizarreta14%40gmail.com/My%20Drive/%F0%9F%8F%9B%20PhD%20Repository/%F0%9F%9A%80%20Research/%F0%9F%A4%96%20Experiments/DUNE/%F0%9F%92%BB%20DUNE_Notebooks/AlignmentCalibration/ALIGNMENT.ipynb#W4sZmlsZQ%3D%3D?line=16'>17</a>\u001b[0m \u001b[39melse\u001b[39;00m:\n\u001b[1;32m     <a href='vscode-notebook-cell:/Users/fermi/Library/CloudStorage/GoogleDrive-rvizarreta14%40gmail.com/My%20Drive/%F0%9F%8F%9B%20PhD%20Repository/%F0%9F%9A%80%20Research/%F0%9F%A4%96%20Experiments/DUNE/%F0%9F%92%BB%20DUNE_Notebooks/AlignmentCalibration/ALIGNMENT.ipynb#W4sZmlsZQ%3D%3D?line=17'>18</a>\u001b[0m     H1Name \u001b[39m=\u001b[39m \u001b[39m\"\u001b[39m\u001b[39m{}\u001b[39;00m\u001b[39m_shift\u001b[39m\u001b[39m\"\u001b[39m\u001b[39m.\u001b[39mformat(ModTitle)\n",
      "\u001b[0;31mTypeError\u001b[0m: TH1D* TH2::ProjectionX(const char* name = \"_px\", int firstybin = 0, int lastybin = -1, const char* option = \"\") =>\n    TypeError: could not convert argument 2 (int/long conversion expects an integer object)"
     ]
    },
    {
     "name": "stdout",
     "output_type": "stream",
     "text": [
      "Unknown function: mod001pl1_fit\n",
      "Unknown function: mod001pl1_fit\n"
     ]
    },
    {
     "name": "stderr",
     "output_type": "stream",
     "text": [
      "Warning in <TCanvas::Constructor>: Deleting canvas with same name: c1\n",
      "Info in <TCanvas::Print>: Current canvas added to pdf file AlignmentBook.pdf\n",
      "Warning in <TCanvas::Constructor>: Deleting canvas with same name: dummy\n",
      "input_line_6035:2:55: error: use of undeclared identifier 'TriangleFunction'\n",
      "Double_t TFormula____id2949208694955576391(){ return {TriangleFunction} ; }\n",
      "                                                      ^\n",
      "input_line_6036:2:55: error: use of undeclared identifier 'TriangleFunction'\n",
      "Double_t TFormula____id2949208694955576391(){ return {TriangleFunction} ; }\n",
      "                                                      ^\n",
      "Error in <prepareMethod>: Can't compile function TFormula____id2949208694955576391 prototype with arguments \n",
      "Error in <TFormula::InputFormulaIntoCling>: Error compiling formula expression in Cling\n",
      "Error in <TFormula::ProcessFormula>: \"TriangleFunction\" has not been matched in the formula expression\n",
      "Error in <TFormula::ProcessFormula>: Formula \"TriangleFunction\" is invalid !\n",
      "Error in <TFormula::GetParameter>: wrong index used - use GetParameter(name)\n",
      "Error in <TFormula::GetParameter>: wrong index used - use GetParameter(name)\n",
      "Warning in <TCanvas::Constructor>: Deleting canvas with same name: dummy\n"
     ]
    }
   ],
   "source": [
    "DoAlignment()"
   ]
  },
  {
   "cell_type": "code",
   "execution_count": null,
   "metadata": {},
   "outputs": [],
   "source": []
  }
 ],
 "metadata": {
  "kernelspec": {
   "display_name": "pyroot",
   "language": "python",
   "name": "python3"
  },
  "language_info": {
   "codemirror_mode": {
    "name": "ipython",
    "version": 3
   },
   "file_extension": ".py",
   "mimetype": "text/x-python",
   "name": "python",
   "nbconvert_exporter": "python",
   "pygments_lexer": "ipython3",
   "version": "3.11.6"
  },
  "orig_nbformat": 4
 },
 "nbformat": 4,
 "nbformat_minor": 2
}
