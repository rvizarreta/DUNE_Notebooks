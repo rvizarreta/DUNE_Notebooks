{
 "cells": [
  {
   "cell_type": "code",
   "execution_count": 1,
   "metadata": {},
   "outputs": [
    {
     "name": "stdout",
     "output_type": "stream",
     "text": [
      "Welcome to JupyROOT 6.28/04\n",
      "DUNE plot style enabled\n"
     ]
    }
   ],
   "source": [
    "'''\n",
    "ROOT FILE EXPLORER THE TMS/mu2e WORK\n",
    "Author: Renzo Vizarreta (rvizarr@fnal.gov)\n",
    "Notebook date: November 15th, 2023.\n",
    "'''\n",
    "\n",
    "# --- ROOT AND PLOTTING PACKAGES ---\n",
    "# For instructions about downloading ROOT go to: https://root.cern/manual/python/\n",
    "import ROOT\n",
    "# For instructions about running the dunestyle go to: https://github.com/DUNE/dune_plot_style\n",
    "import dunestyle.root as dunestyle\n",
    "from ipywidgets import interact, widgets\n",
    "# Turn on the statistics box with basic information\n",
    "ROOT.gStyle.SetOptStat(1)\n",
    "ROOT.gStyle.SetStatW(0.2)  # Set the width\n",
    "ROOT.gStyle.SetStatH(0.2)  # Set the height\n",
    "ROOT.gStyle.SetStatX(0.8)  # Set the X position (right edge)\n",
    "ROOT.gStyle.SetStatY(0.8)  # Set the Y position (top edge)\n",
    "# Remove the border of the statistics box\n",
    "ROOT.gStyle.SetStatBorderSize(0)\n",
    "# ----------------------------------"
   ]
  },
  {
   "cell_type": "code",
   "execution_count": 2,
   "metadata": {},
   "outputs": [
    {
     "name": "stdout",
     "output_type": "stream",
     "text": [
      "TFile**\t\t../RESOURCES/rec.mu2e.CRV_wideband_cosmics.CRVWB-000-004-000.001365_000.root\t\n",
      " TFile*\t\t../RESOURCES/rec.mu2e.CRV_wideband_cosmics.CRVWB-000-004-000.001365_000.root\t\n",
      "  KEY: TTree\trunSummary;1\trunSummary\n",
      "  KEY: TTree\trun;1\trun\n",
      "  KEY: TTree\tspills;1\tspills\n"
     ]
    }
   ],
   "source": [
    "file_location = \"../RESOURCES/rec.mu2e.CRV_wideband_cosmics.CRVWB-000-004-000.001365_000.root\"\n",
    "root_file = ROOT.TFile(file_location)\n",
    "root_file.ls()"
   ]
  },
  {
   "cell_type": "code",
   "execution_count": 3,
   "metadata": {},
   "outputs": [
    {
     "name": "stdout",
     "output_type": "stream",
     "text": [
      "******************************************************************************\n",
      "*Tree    :run       : run                                                    *\n",
      "*Entries :   101025 : Total =      4546955869 bytes  File  Size = 1519456561 *\n",
      "*        :          : Tree compression factor =   2.99                       *\n",
      "******************************************************************************\n",
      "*Br    0 :runNumber : runNumber/I                                            *\n",
      "*Entries :   101025 : Total  Size=     409361 bytes  File Size  =       7834 *\n",
      "*Baskets :       52 : Basket Size=      51200 bytes  Compression=  52.08     *\n",
      "*............................................................................*\n",
      "*Br    1 :subrunNumber : subrunNumber/I                                      *\n",
      "*Entries :   101025 : Total  Size=     409529 bytes  File Size  =       7523 *\n",
      "*Baskets :       52 : Basket Size=      51200 bytes  Compression=  54.25     *\n",
      "*............................................................................*\n",
      "*Br    2 :spillIndex : spillIndex/I                                          *\n",
      "*Entries :   101025 : Total  Size=     409417 bytes  File Size  =       7844 *\n",
      "*Baskets :       52 : Basket Size=      51200 bytes  Compression=  52.02     *\n",
      "*............................................................................*\n",
      "*Br    3 :spillNumber : spillNumber/I                                        *\n",
      "*Entries :   101025 : Total  Size=     409473 bytes  File Size  =       7896 *\n",
      "*Baskets :       52 : Basket Size=      51200 bytes  Compression=  51.68     *\n",
      "*............................................................................*\n",
      "*Br    4 :boardStatus : boardStatus[2][22]/I                                 *\n",
      "*Entries :   101025 : Total  Size=   17786757 bytes  File Size  =     158859 *\n",
      "*Baskets :       62 : Basket Size=     375808 bytes  Compression= 111.96     *\n",
      "*............................................................................*\n",
      "*Br    5 :spillTimestamp : spillTimestamp/L                                  *\n",
      "*Entries :   101025 : Total  Size=     813749 bytes  File Size  =      10811 *\n",
      "*Baskets :       52 : Basket Size=      51200 bytes  Compression=  75.14     *\n",
      "*............................................................................*\n",
      "*Br    6 :eventNumber : eventNumber/I                                        *\n",
      "*Entries :   101025 : Total  Size=     409473 bytes  File Size  =     147283 *\n",
      "*Baskets :       52 : Basket Size=      51200 bytes  Compression=   2.77     *\n",
      "*............................................................................*\n",
      "*Br    7 :tdcSinceSpill : tdcSinceSpill[2][64]/L                             *\n",
      "*Entries :   101025 : Total  Size=  103461344 bytes  File Size  =    1290676 *\n",
      "*Baskets :      115 : Basket Size=    2185216 bytes  Compression=  80.16     *\n",
      "*............................................................................*\n",
      "*Br    8 :timeSinceSpill : timeSinceSpill[2][64]/D                           *\n",
      "*Entries :   101025 : Total  Size=  103461463 bytes  File Size  =    1399570 *\n",
      "*Baskets :      115 : Basket Size=    2185216 bytes  Compression=  73.92     *\n",
      "*............................................................................*\n",
      "*Br    9 :fitStatus : fitStatus[2][64]/I                                     *\n",
      "*Entries :   101025 : Total  Size=   51733020 bytes  File Size  =     899822 *\n",
      "*Baskets :       83 : Basket Size=    1092608 bytes  Compression=  57.49     *\n",
      "*............................................................................*\n",
      "*Br   10 :PEs       : PEs[2][64]/F                                           *\n",
      "*Entries :   101025 : Total  Size=   51732498 bytes  File Size  =   45099839 *\n",
      "*Baskets :       83 : Basket Size=    1092608 bytes  Compression=   1.15     *\n",
      "*............................................................................*\n",
      "*Br   11 :PEsTemperatureCorrected : PEsTemperatureCorrected[2][64]/F         *\n",
      "*Entries :   101025 : Total  Size=   51734238 bytes  File Size  =   45074360 *\n",
      "*Baskets :       83 : Basket Size=    1093120 bytes  Compression=   1.15     *\n",
      "*............................................................................*\n",
      "*Br   12 :temperature : temperature[2][64]/F                                 *\n",
      "*Entries :   101025 : Total  Size=   51733194 bytes  File Size  =    1508111 *\n",
      "*Baskets :       83 : Basket Size=    1092608 bytes  Compression=  34.30     *\n",
      "*............................................................................*\n",
      "*Br   13 :pulseHeight : pulseHeight[2][64]/F                                 *\n",
      "*Entries :   101025 : Total  Size=   51733194 bytes  File Size  =   44698048 *\n",
      "*Baskets :       83 : Basket Size=    1092608 bytes  Compression=   1.16     *\n",
      "*............................................................................*\n",
      "*Br   14 :beta      : beta[2][64]/F                                          *\n",
      "*Entries :   101025 : Total  Size=   51732585 bytes  File Size  =   42997786 *\n",
      "*Baskets :       83 : Basket Size=    1092608 bytes  Compression=   1.20     *\n",
      "*............................................................................*\n",
      "*Br   15 :time      : time[2][64]/F                                          *\n",
      "*Entries :   101025 : Total  Size=   51732585 bytes  File Size  =   37289970 *\n",
      "*Baskets :       83 : Basket Size=    1092608 bytes  Compression=   1.39     *\n",
      "*............................................................................*\n",
      "*Br   16 :LEtime    : LEtime[2][64]/F                                        *\n",
      "*Entries :   101025 : Total  Size=   51732759 bytes  File Size  =   37212652 *\n",
      "*Baskets :       83 : Basket Size=    1092608 bytes  Compression=   1.39     *\n",
      "*............................................................................*\n",
      "*Br   17 :adc       : adc[2][64][127]/S                                      *\n",
      "*Entries :101025 : Total  Size= 3284713174 bytes  File Size  = 1166663250 *\n",
      "*Baskets :     2113 : Basket Size=   25600000 bytes  Compression=   2.82     *\n",
      "*............................................................................*\n",
      "*Br   18 :recoStartBin : recoStartBin[2][64]/I                               *\n",
      "*Entries :   101025 : Total  Size=   51733281 bytes  File Size  =    7831617 *\n",
      "*Baskets :       83 : Basket Size=    1092608 bytes  Compression=   6.61     *\n",
      "*............................................................................*\n",
      "*Br   19 :recoEndBin : recoEndBin[2][64]/I                                   *\n",
      "*Entries :   101025 : Total  Size=   51733107 bytes  File Size  =    7182968 *\n",
      "*Baskets :       83 : Basket Size=    1092608 bytes  Compression=   7.20     *\n",
      "*............................................................................*\n",
      "*Br   20 :pedestal  : pedestal[2][64]/F                                      *\n",
      "*Entries :   101025 : Total  Size=   51732933 bytes  File Size  =     443376 *\n",
      "*Baskets :       83 : Basket Size=    1092608 bytes  Compression= 116.68     *\n",
      "*............................................................................*\n",
      "*Br   21 :fitStatusReflectedPulse : fitStatusReflectedPulse[2][64]/I         *\n",
      "*Entries :   101025 : Total  Size=   51734238 bytes  File Size  =    4069094 *\n",
      "*Baskets :       83 : Basket Size=    1093120 bytes  Compression=  12.71     *\n",
      "*............................................................................*\n",
      "*Br   22 :PEsReflectedPulse : PEsReflectedPulse[2][64]/F                     *\n",
      "*Entries :   101025 : Total  Size=   51733716 bytes  File Size  =   11283753 *\n",
      "*Baskets :       83 : Basket Size=    1092608 bytes  Compression=   4.58     *\n",
      "*............................................................................*\n",
      "*Br   23 :PEsTemperatureCorrectedReflectedPulse :                            *\n",
      "*         | PEsTemperatureCorrectedReflectedPulse[2][64]/F                   *\n",
      "*Entries :   101025 : Total  Size=   51735456 bytes  File Size  =   11277031 *\n",
      "*Baskets :       83 : Basket Size=    1093632 bytes  Compression=   4.59     *\n",
      "*............................................................................*\n",
      "*Br   24 :pulseHeightReflectedPulse : pulseHeightReflectedPulse[2][64]/F     *\n",
      "*Entries :   101025 : Total  Size=   51734412 bytes  File Size  =   11268749 *\n",
      "*Baskets :       83 : Basket Size=    1093120 bytes  Compression=   4.59     *\n",
      "*............................................................................*\n",
      "*Br   25 :betaReflectedPulse : betaReflectedPulse[2][64]/F                   *\n",
      "*Entries :   101025 : Total  Size=   51733803 bytes  File Size  =   10620822 *\n",
      "*Baskets :       83 : Basket Size=    1093120 bytes  Compression=   4.87     *\n",
      "*............................................................................*\n",
      "*Br   26 :timeReflectedPulse : timeReflectedPulse[2][64]/F                   *\n",
      "*Entries :   101025 : Total  Size=   51733803 bytes  File Size  =   10513420 *\n",
      "*Baskets :       83 : Basket Size=    1093120 bytes  Compression=   4.92     *\n",
      "*............................................................................*\n",
      "*Br   27 :LEtimeReflectedPulse : LEtimeReflectedPulse[2][64]/F               *\n",
      "*Entries :   101025 : Total  Size=   51733977 bytes  File Size  =   10517927 *\n",
      "*Baskets :       83 : Basket Size=    1093120 bytes  Compression=   4.92     *\n",
      "*............................................................................*\n",
      "*Br   28 :recoStartBinReflectedPulse : recoStartBinReflectedPulse[2][64]/I   *\n",
      "*Entries :   101025 : Total  Size=   51734499 bytes  File Size  =    4931765 *\n",
      "*Baskets :       83 : Basket Size=    1093120 bytes  Compression=  10.49     *\n",
      "*............................................................................*\n",
      "*Br   29 :recoEndBinReflectedPulse : recoEndBinReflectedPulse[2][64]/I       *\n",
      "*Entries :   101025 : Total  Size=   51734325 bytes  File Size  =    4996583 *\n",
      "*Baskets :       83 : Basket Size=    1093120 bytes  Compression=  10.35     *\n",
      "*............................................................................*\n"
     ]
    }
   ],
   "source": [
    "root_file.Get(\"run\").Print()"
   ]
  },
  {
   "cell_type": "code",
   "execution_count": 4,
   "metadata": {},
   "outputs": [],
   "source": [
    "chain = ROOT.TChain(\"run\")\n",
    "chain.Add(file_location)\n",
    "canvas = ROOT.TCanvas(\"canvas\", \"Plot\")"
   ]
  },
  {
   "cell_type": "code",
   "execution_count": 5,
   "metadata": {},
   "outputs": [
    {
     "data": {
      "image/png": "[encoded data removed]",
      "text/plain": [
       "<IPython.core.display.Image object>"
      ]
     },
     "metadata": {},
     "output_type": "display_data"
    }
   ],
   "source": [
    "chain.Draw(\"pulseHeight[0][1]\")\n",
    "canvas.Draw()"
   ]
  },
  {
   "cell_type": "code",
   "execution_count": 6,
   "metadata": {},
   "outputs": [
    {
     "data": {
      "image/png": "[encoded data removed]",
      "text/plain": [
       "<IPython.core.display.Image object>"
      ]
     },
     "metadata": {},
     "output_type": "display_data"
    }
   ],
   "source": [
    "chain.Draw(\"LEtime[0][1]>>(1000, 900, 1000)\")\n",
    "canvas.Draw()"
   ]
  },
  {
   "cell_type": "code",
   "execution_count": null,
   "metadata": {},
   "outputs": [],
   "source": []
  }
 ],
 "metadata": {
  "kernelspec": {
   "display_name": "base",
   "language": "python",
   "name": "python3"
  },
  "language_info": {
   "codemirror_mode": {
    "name": "ipython",
    "version": 3
   },
   "file_extension": ".py",
   "mimetype": "text/x-python",
   "name": "python",
   "nbconvert_exporter": "python",
   "pygments_lexer": "ipython3",
   "version": "3.11.6"
  },
  "orig_nbformat": 4
 },
 "nbformat": 4,
 "nbformat_minor": 2
}
